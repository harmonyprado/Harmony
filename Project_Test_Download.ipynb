{
 "cells": [
  {
   "cell_type": "markdown",
   "metadata": {
    "id": "H-xjGOet8NA-"
   },
   "source": [
    "# Stock Market Analysis\n",
    "\n",
    "![](https://images.unsplash.com/photo-1624996379697-f01d168b1a52?ixlib=rb-1.2.1&ixid=MnwxMjA3fDB8MHxwaG90by1wYWdlfHx8fGVufDB8fHx8&auto=format&fit=crop&w=2940&q=80)"
   ]
  },
  {
   "cell_type": "code",
   "execution_count": 1,
   "metadata": {
    "id": "zwnUsRkB8NBR"
   },
   "outputs": [],
   "source": [
    "# Team members:\n",
    "\n",
    "full_name_1 = \"Faiz Adem\"\n",
    "full_name_2 = \"Anthony Lopardo\"\n",
    "full_name_3 = \"Harmony Prado\"\n",
    "full_name_4 = \"\""
   ]
  },
  {
   "cell_type": "code",
   "execution_count": 2,
   "metadata": {
    "colab": {
     "base_uri": "https://localhost:8080/"
    },
    "id": "KFw3Jfx38NBW",
    "outputId": "d704db61-71f1-465e-9580-5e8bc93cf2ae"
   },
   "outputs": [
    {
     "name": "stdout",
     "output_type": "stream",
     "text": [
      "Requirement already satisfied: yfinance in /Users/harmonyprado/opt/anaconda3/lib/python3.9/site-packages (0.1.85)\n",
      "Requirement already satisfied: lxml>=4.5.1 in /Users/harmonyprado/opt/anaconda3/lib/python3.9/site-packages (from yfinance) (4.8.0)\n",
      "Requirement already satisfied: numpy>=1.15 in /Users/harmonyprado/opt/anaconda3/lib/python3.9/site-packages (from yfinance) (1.21.5)\n",
      "Requirement already satisfied: appdirs>=1.4.4 in /Users/harmonyprado/opt/anaconda3/lib/python3.9/site-packages (from yfinance) (1.4.4)\n",
      "Requirement already satisfied: requests>=2.26 in /Users/harmonyprado/opt/anaconda3/lib/python3.9/site-packages (from yfinance) (2.27.1)\n",
      "Requirement already satisfied: pandas>=0.24.0 in /Users/harmonyprado/opt/anaconda3/lib/python3.9/site-packages (from yfinance) (1.4.2)\n",
      "Requirement already satisfied: multitasking>=0.0.7 in /Users/harmonyprado/opt/anaconda3/lib/python3.9/site-packages (from yfinance) (0.0.11)\n",
      "Requirement already satisfied: python-dateutil>=2.8.1 in /Users/harmonyprado/opt/anaconda3/lib/python3.9/site-packages (from pandas>=0.24.0->yfinance) (2.8.2)\n",
      "Requirement already satisfied: pytz>=2020.1 in /Users/harmonyprado/opt/anaconda3/lib/python3.9/site-packages (from pandas>=0.24.0->yfinance) (2021.3)\n",
      "Requirement already satisfied: six>=1.5 in /Users/harmonyprado/opt/anaconda3/lib/python3.9/site-packages (from python-dateutil>=2.8.1->pandas>=0.24.0->yfinance) (1.16.0)\n",
      "Requirement already satisfied: charset-normalizer~=2.0.0 in /Users/harmonyprado/opt/anaconda3/lib/python3.9/site-packages (from requests>=2.26->yfinance) (2.0.4)\n",
      "Requirement already satisfied: certifi>=2017.4.17 in /Users/harmonyprado/opt/anaconda3/lib/python3.9/site-packages (from requests>=2.26->yfinance) (2021.10.8)\n",
      "Requirement already satisfied: urllib3<1.27,>=1.21.1 in /Users/harmonyprado/opt/anaconda3/lib/python3.9/site-packages (from requests>=2.26->yfinance) (1.26.9)\n",
      "Requirement already satisfied: idna<4,>=2.5 in /Users/harmonyprado/opt/anaconda3/lib/python3.9/site-packages (from requests>=2.26->yfinance) (3.3)\n",
      "Requirement already satisfied: quandl in /Users/harmonyprado/opt/anaconda3/lib/python3.9/site-packages (3.7.0)\n",
      "Requirement already satisfied: more-itertools in /Users/harmonyprado/opt/anaconda3/lib/python3.9/site-packages (from quandl) (9.0.0)\n",
      "Requirement already satisfied: python-dateutil in /Users/harmonyprado/opt/anaconda3/lib/python3.9/site-packages (from quandl) (2.8.2)\n",
      "Requirement already satisfied: inflection>=0.3.1 in /Users/harmonyprado/opt/anaconda3/lib/python3.9/site-packages (from quandl) (0.5.1)\n",
      "Requirement already satisfied: requests>=2.7.0 in /Users/harmonyprado/opt/anaconda3/lib/python3.9/site-packages (from quandl) (2.27.1)\n",
      "Requirement already satisfied: numpy>=1.8 in /Users/harmonyprado/opt/anaconda3/lib/python3.9/site-packages (from quandl) (1.21.5)\n",
      "Requirement already satisfied: pandas>=0.14 in /Users/harmonyprado/opt/anaconda3/lib/python3.9/site-packages (from quandl) (1.4.2)\n",
      "Requirement already satisfied: six in /Users/harmonyprado/opt/anaconda3/lib/python3.9/site-packages (from quandl) (1.16.0)\n",
      "Requirement already satisfied: pytz>=2020.1 in /Users/harmonyprado/opt/anaconda3/lib/python3.9/site-packages (from pandas>=0.14->quandl) (2021.3)\n",
      "Requirement already satisfied: idna<4,>=2.5 in /Users/harmonyprado/opt/anaconda3/lib/python3.9/site-packages (from requests>=2.7.0->quandl) (3.3)\n",
      "Requirement already satisfied: charset-normalizer~=2.0.0 in /Users/harmonyprado/opt/anaconda3/lib/python3.9/site-packages (from requests>=2.7.0->quandl) (2.0.4)\n",
      "Requirement already satisfied: certifi>=2017.4.17 in /Users/harmonyprado/opt/anaconda3/lib/python3.9/site-packages (from requests>=2.7.0->quandl) (2021.10.8)\n",
      "Requirement already satisfied: urllib3<1.27,>=1.21.1 in /Users/harmonyprado/opt/anaconda3/lib/python3.9/site-packages (from requests>=2.7.0->quandl) (1.26.9)\n",
      "Requirement already satisfied: plotly in /Users/harmonyprado/opt/anaconda3/lib/python3.9/site-packages (5.6.0)\n",
      "Requirement already satisfied: six in /Users/harmonyprado/opt/anaconda3/lib/python3.9/site-packages (from plotly) (1.16.0)\n",
      "Requirement already satisfied: tenacity>=6.2.0 in /Users/harmonyprado/opt/anaconda3/lib/python3.9/site-packages (from plotly) (8.0.1)\n",
      "Requirement already satisfied: pandas-datareader in /Users/harmonyprado/opt/anaconda3/lib/python3.9/site-packages (0.10.0)\n",
      "Requirement already satisfied: lxml in /Users/harmonyprado/opt/anaconda3/lib/python3.9/site-packages (from pandas-datareader) (4.8.0)\n",
      "Requirement already satisfied: pandas>=0.23 in /Users/harmonyprado/opt/anaconda3/lib/python3.9/site-packages (from pandas-datareader) (1.4.2)\n",
      "Requirement already satisfied: requests>=2.19.0 in /Users/harmonyprado/opt/anaconda3/lib/python3.9/site-packages (from pandas-datareader) (2.27.1)\n",
      "Requirement already satisfied: python-dateutil>=2.8.1 in /Users/harmonyprado/opt/anaconda3/lib/python3.9/site-packages (from pandas>=0.23->pandas-datareader) (2.8.2)\n",
      "Requirement already satisfied: pytz>=2020.1 in /Users/harmonyprado/opt/anaconda3/lib/python3.9/site-packages (from pandas>=0.23->pandas-datareader) (2021.3)\n",
      "Requirement already satisfied: numpy>=1.18.5 in /Users/harmonyprado/opt/anaconda3/lib/python3.9/site-packages (from pandas>=0.23->pandas-datareader) (1.21.5)\n",
      "Requirement already satisfied: six>=1.5 in /Users/harmonyprado/opt/anaconda3/lib/python3.9/site-packages (from python-dateutil>=2.8.1->pandas>=0.23->pandas-datareader) (1.16.0)\n",
      "Requirement already satisfied: urllib3<1.27,>=1.21.1 in /Users/harmonyprado/opt/anaconda3/lib/python3.9/site-packages (from requests>=2.19.0->pandas-datareader) (1.26.9)\n",
      "Requirement already satisfied: charset-normalizer~=2.0.0 in /Users/harmonyprado/opt/anaconda3/lib/python3.9/site-packages (from requests>=2.19.0->pandas-datareader) (2.0.4)\n",
      "Requirement already satisfied: certifi>=2017.4.17 in /Users/harmonyprado/opt/anaconda3/lib/python3.9/site-packages (from requests>=2.19.0->pandas-datareader) (2021.10.8)\n",
      "Requirement already satisfied: idna<4,>=2.5 in /Users/harmonyprado/opt/anaconda3/lib/python3.9/site-packages (from requests>=2.19.0->pandas-datareader) (3.3)\n",
      "Requirement already satisfied: yahoo_fin in /Users/harmonyprado/opt/anaconda3/lib/python3.9/site-packages (0.8.9.1)\n",
      "Requirement already satisfied: requests-html in /Users/harmonyprado/opt/anaconda3/lib/python3.9/site-packages (from yahoo_fin) (0.10.0)\n",
      "Requirement already satisfied: feedparser in /Users/harmonyprado/opt/anaconda3/lib/python3.9/site-packages (from yahoo_fin) (6.0.10)\n",
      "Requirement already satisfied: requests in /Users/harmonyprado/opt/anaconda3/lib/python3.9/site-packages (from yahoo_fin) (2.27.1)\n",
      "Requirement already satisfied: pandas in /Users/harmonyprado/opt/anaconda3/lib/python3.9/site-packages (from yahoo_fin) (1.4.2)\n",
      "Requirement already satisfied: sgmllib3k in /Users/harmonyprado/opt/anaconda3/lib/python3.9/site-packages (from feedparser->yahoo_fin) (1.0.0)\n",
      "Requirement already satisfied: python-dateutil>=2.8.1 in /Users/harmonyprado/opt/anaconda3/lib/python3.9/site-packages (from pandas->yahoo_fin) (2.8.2)\n",
      "Requirement already satisfied: pytz>=2020.1 in /Users/harmonyprado/opt/anaconda3/lib/python3.9/site-packages (from pandas->yahoo_fin) (2021.3)\n",
      "Requirement already satisfied: numpy>=1.18.5 in /Users/harmonyprado/opt/anaconda3/lib/python3.9/site-packages (from pandas->yahoo_fin) (1.21.5)\n",
      "Requirement already satisfied: six>=1.5 in /Users/harmonyprado/opt/anaconda3/lib/python3.9/site-packages (from python-dateutil>=2.8.1->pandas->yahoo_fin) (1.16.0)\n",
      "Requirement already satisfied: certifi>=2017.4.17 in /Users/harmonyprado/opt/anaconda3/lib/python3.9/site-packages (from requests->yahoo_fin) (2021.10.8)\n",
      "Requirement already satisfied: charset-normalizer~=2.0.0 in /Users/harmonyprado/opt/anaconda3/lib/python3.9/site-packages (from requests->yahoo_fin) (2.0.4)\n",
      "Requirement already satisfied: urllib3<1.27,>=1.21.1 in /Users/harmonyprado/opt/anaconda3/lib/python3.9/site-packages (from requests->yahoo_fin) (1.26.9)\n",
      "Requirement already satisfied: idna<4,>=2.5 in /Users/harmonyprado/opt/anaconda3/lib/python3.9/site-packages (from requests->yahoo_fin) (3.3)\n",
      "Requirement already satisfied: fake-useragent in /Users/harmonyprado/opt/anaconda3/lib/python3.9/site-packages (from requests-html->yahoo_fin) (1.1.0)\n",
      "Requirement already satisfied: parse in /Users/harmonyprado/opt/anaconda3/lib/python3.9/site-packages (from requests-html->yahoo_fin) (1.19.0)\n",
      "Requirement already satisfied: pyppeteer>=0.0.14 in /Users/harmonyprado/opt/anaconda3/lib/python3.9/site-packages (from requests-html->yahoo_fin) (1.0.2)\n",
      "Requirement already satisfied: bs4 in /Users/harmonyprado/opt/anaconda3/lib/python3.9/site-packages (from requests-html->yahoo_fin) (0.0.1)\n",
      "Requirement already satisfied: w3lib in /Users/harmonyprado/opt/anaconda3/lib/python3.9/site-packages (from requests-html->yahoo_fin) (1.21.0)\n",
      "Requirement already satisfied: pyquery in /Users/harmonyprado/opt/anaconda3/lib/python3.9/site-packages (from requests-html->yahoo_fin) (1.4.3)\n",
      "Requirement already satisfied: pyee<9.0.0,>=8.1.0 in /Users/harmonyprado/opt/anaconda3/lib/python3.9/site-packages (from pyppeteer>=0.0.14->requests-html->yahoo_fin) (8.2.2)\n",
      "Requirement already satisfied: tqdm<5.0.0,>=4.42.1 in /Users/harmonyprado/opt/anaconda3/lib/python3.9/site-packages (from pyppeteer>=0.0.14->requests-html->yahoo_fin) (4.64.0)\n",
      "Requirement already satisfied: importlib-metadata>=1.4 in /Users/harmonyprado/opt/anaconda3/lib/python3.9/site-packages (from pyppeteer>=0.0.14->requests-html->yahoo_fin) (4.11.3)\n",
      "Requirement already satisfied: websockets<11.0,>=10.0 in /Users/harmonyprado/opt/anaconda3/lib/python3.9/site-packages (from pyppeteer>=0.0.14->requests-html->yahoo_fin) (10.4)\n",
      "Requirement already satisfied: appdirs<2.0.0,>=1.4.3 in /Users/harmonyprado/opt/anaconda3/lib/python3.9/site-packages (from pyppeteer>=0.0.14->requests-html->yahoo_fin) (1.4.4)\n"
     ]
    },
    {
     "name": "stdout",
     "output_type": "stream",
     "text": [
      "Requirement already satisfied: zipp>=0.5 in /Users/harmonyprado/opt/anaconda3/lib/python3.9/site-packages (from importlib-metadata>=1.4->pyppeteer>=0.0.14->requests-html->yahoo_fin) (3.7.0)\n",
      "Requirement already satisfied: beautifulsoup4 in /Users/harmonyprado/opt/anaconda3/lib/python3.9/site-packages (from bs4->requests-html->yahoo_fin) (4.11.1)\n",
      "Requirement already satisfied: soupsieve>1.2 in /Users/harmonyprado/opt/anaconda3/lib/python3.9/site-packages (from beautifulsoup4->bs4->requests-html->yahoo_fin) (2.3.1)\n",
      "Requirement already satisfied: importlib-resources>=5.0 in /Users/harmonyprado/opt/anaconda3/lib/python3.9/site-packages (from fake-useragent->requests-html->yahoo_fin) (5.10.0)\n",
      "Requirement already satisfied: cssselect>0.7.9 in /Users/harmonyprado/opt/anaconda3/lib/python3.9/site-packages (from pyquery->requests-html->yahoo_fin) (1.1.0)\n",
      "Requirement already satisfied: lxml>=2.1 in /Users/harmonyprado/opt/anaconda3/lib/python3.9/site-packages (from pyquery->requests-html->yahoo_fin) (4.8.0)\n"
     ]
    }
   ],
   "source": [
    "!pip install yfinance\n",
    "!pip install quandl\n",
    "!pip install plotly\n",
    "!pip install pandas-datareader\n",
    "!pip install yahoo_fin\n"
   ]
  },
  {
   "cell_type": "code",
   "execution_count": 3,
   "metadata": {
    "colab": {
     "base_uri": "https://localhost:8080/",
     "height": 17
    },
    "id": "qlxgUVL58NBX",
    "outputId": "30089f6a-8c54-4421-ba76-0e7f64513ad4"
   },
   "outputs": [
    {
     "data": {
      "text/html": [
       "        <script type=\"text/javascript\">\n",
       "        window.PlotlyConfig = {MathJaxConfig: 'local'};\n",
       "        if (window.MathJax) {MathJax.Hub.Config({SVG: {font: \"STIX-Web\"}});}\n",
       "        if (typeof require !== 'undefined') {\n",
       "        require.undef(\"plotly\");\n",
       "        requirejs.config({\n",
       "            paths: {\n",
       "                'plotly': ['https://cdn.plot.ly/plotly-2.9.0.min']\n",
       "            }\n",
       "        });\n",
       "        require(['plotly'], function(Plotly) {\n",
       "            window._Plotly = Plotly;\n",
       "        });\n",
       "        }\n",
       "        </script>\n",
       "        "
      ]
     },
     "metadata": {},
     "output_type": "display_data"
    }
   ],
   "source": [
    "%matplotlib inline\n",
    "\n",
    "import yfinance as yf  \n",
    "import pandas as pd\n",
    "from pandas_datareader import data as pdr\n",
    "import matplotlib.pyplot as plt\n",
    "plt.style.use('ggplot')\n",
    "import seaborn as sns \n",
    "import json\n",
    "import numpy as np\n",
    "from sklearn.linear_model import LinearRegression\n",
    "import quandl\n",
    "import requests\n",
    "from bs4 import BeautifulSoup\n",
    "import datetime as dt\n",
    "import plotly.offline as pyo\n",
    "import plotly.graph_objects as go\n",
    "from plotly.subplots import make_subplots\n",
    "\n",
    "pyo.init_notebook_mode(connected=True)\n",
    "pd.options.plotting.backend = 'plotly'\n",
    "\n"
   ]
  },
  {
   "cell_type": "markdown",
   "metadata": {
    "id": "0DQaupoy8NBY"
   },
   "source": [
    "---\n",
    "### Points distribution:\n",
    "\n",
    "* Parts A1 to A4, 3 points each.\n",
    "* Part A5, 8 points.\n",
    "* Part B1, 40 points.\n",
    "* Part B2, 40 points.\n"
   ]
  },
  {
   "cell_type": "markdown",
   "metadata": {
    "id": "q0yqFgYP8NBZ"
   },
   "source": [
    "---\n",
    "### yfinance library\n",
    "\n",
    "For part A you will use **yfinance** library. **yfinance** is a simple solution for downloading data from yahoo finance website. The returned results are in Pandas data frame format. For more information on **yfinance** library go to https://pypi.org/project/yfinance/.\n",
    "\n",
    "**Hint:** the only method you need for solving the problems is as follows. This method will get the ticker name, start date, end date, and it will return price as a pandas dataframe.\n"
   ]
  },
  {
   "cell_type": "code",
   "execution_count": 4,
   "metadata": {
    "colab": {
     "base_uri": "https://localhost:8080/",
     "height": 281
    },
    "id": "eELALhuf8NBa",
    "outputId": "0b068a8b-6990-47df-b8ed-008176f81f3b"
   },
   "outputs": [
    {
     "data": {
      "text/html": [
       "<div>\n",
       "<style scoped>\n",
       "    .dataframe tbody tr th:only-of-type {\n",
       "        vertical-align: middle;\n",
       "    }\n",
       "\n",
       "    .dataframe tbody tr th {\n",
       "        vertical-align: top;\n",
       "    }\n",
       "\n",
       "    .dataframe thead th {\n",
       "        text-align: right;\n",
       "    }\n",
       "</style>\n",
       "<table border=\"1\" class=\"dataframe\">\n",
       "  <thead>\n",
       "    <tr style=\"text-align: right;\">\n",
       "      <th></th>\n",
       "      <th>Open</th>\n",
       "      <th>High</th>\n",
       "      <th>Low</th>\n",
       "      <th>Close</th>\n",
       "      <th>Adj Close</th>\n",
       "      <th>Volume</th>\n",
       "    </tr>\n",
       "    <tr>\n",
       "      <th>Date</th>\n",
       "      <th></th>\n",
       "      <th></th>\n",
       "      <th></th>\n",
       "      <th></th>\n",
       "      <th></th>\n",
       "      <th></th>\n",
       "    </tr>\n",
       "  </thead>\n",
       "  <tbody>\n",
       "    <tr>\n",
       "      <th>2020-11-05</th>\n",
       "      <td>142.766663</td>\n",
       "      <td>146.666672</td>\n",
       "      <td>141.333328</td>\n",
       "      <td>146.029999</td>\n",
       "      <td>146.029999</td>\n",
       "      <td>85243500</td>\n",
       "    </tr>\n",
       "    <tr>\n",
       "      <th>2020-11-06</th>\n",
       "      <td>145.366669</td>\n",
       "      <td>145.523331</td>\n",
       "      <td>141.426666</td>\n",
       "      <td>143.316666</td>\n",
       "      <td>143.316666</td>\n",
       "      <td>65118000</td>\n",
       "    </tr>\n",
       "    <tr>\n",
       "      <th>2020-11-09</th>\n",
       "      <td>146.500000</td>\n",
       "      <td>150.833328</td>\n",
       "      <td>140.333328</td>\n",
       "      <td>140.419998</td>\n",
       "      <td>140.419998</td>\n",
       "      <td>104499000</td>\n",
       "    </tr>\n",
       "    <tr>\n",
       "      <th>2020-11-10</th>\n",
       "      <td>140.029999</td>\n",
       "      <td>140.029999</td>\n",
       "      <td>132.009995</td>\n",
       "      <td>136.786667</td>\n",
       "      <td>136.786667</td>\n",
       "      <td>90852600</td>\n",
       "    </tr>\n",
       "    <tr>\n",
       "      <th>2020-11-11</th>\n",
       "      <td>138.816666</td>\n",
       "      <td>139.566666</td>\n",
       "      <td>136.860001</td>\n",
       "      <td>139.043335</td>\n",
       "      <td>139.043335</td>\n",
       "      <td>52073100</td>\n",
       "    </tr>\n",
       "  </tbody>\n",
       "</table>\n",
       "</div>"
      ],
      "text/plain": [
       "                  Open        High         Low       Close   Adj Close  \\\n",
       "Date                                                                     \n",
       "2020-11-05  142.766663  146.666672  141.333328  146.029999  146.029999   \n",
       "2020-11-06  145.366669  145.523331  141.426666  143.316666  143.316666   \n",
       "2020-11-09  146.500000  150.833328  140.333328  140.419998  140.419998   \n",
       "2020-11-10  140.029999  140.029999  132.009995  136.786667  136.786667   \n",
       "2020-11-11  138.816666  139.566666  136.860001  139.043335  139.043335   \n",
       "\n",
       "               Volume  \n",
       "Date                   \n",
       "2020-11-05   85243500  \n",
       "2020-11-06   65118000  \n",
       "2020-11-09  104499000  \n",
       "2020-11-10   90852600  \n",
       "2020-11-11   52073100  "
      ]
     },
     "execution_count": 4,
     "metadata": {},
     "output_type": "execute_result"
    }
   ],
   "source": [
    "ticker = 'TSLA'\n",
    "s_date = '2020-11-05'\n",
    "e_date = '2020-11-12'\n",
    "\n",
    "df = yf.download(ticker, s_date, e_date,progress=False)\n",
    "df"
   ]
  },
  {
   "cell_type": "markdown",
   "metadata": {
    "id": "KQRGhoIo8NBc"
   },
   "source": [
    "---\n",
    "## Part A1 - Get price: \n",
    "\n",
    "Write a function that takes a ticker, start date, optional end date, and optional price type **(Open, High, Low, Close, Adj Close, or Volume)**. If the user does not pass the end date, the function should return the price only for the given start date, ticker, and price type. If the user passes the end date, the function should return a list of closing prices. The default price type is \"Close\".\n",
    "\n",
    "Sample result:\n",
    "    \n",
    "    [In]: get_stock_price('MSFT', '2019-02-06', '2019-02-13', price_type='Open')\n",
    "    [Out]: [XXX.XX, XXX.XX, XXX.XX, XXX.XX]\n",
    "    \n",
    "    [In]: get_stock_price('MSFT', '2019-02-06', price_type='Open')\n",
    "    [Out]: XXX.XX\n",
    "    \n",
    "    [In]: get_stock_price('MSFT', '2019-02-06', price_type='Adj Close')\n",
    "    [Out]: XXX.XX\n",
    "    \n",
    "    [In]: get_stock_price('MSFT', '2019-02-06')\n",
    "    [Out]: XXX.XX"
   ]
  },
  {
   "cell_type": "code",
   "execution_count": 5,
   "metadata": {
    "id": "bKk-EOxa8NBe"
   },
   "outputs": [],
   "source": [
    "\n",
    "\n",
    "\n",
    "def get_stock_price(ticker,s_date, e_date = '' ,price_type = ''):\n",
    "  df1 = yf.download(ticker, s_date, e_date, progress=False)\n",
    "\n",
    "  if(s_date != None and e_date != None and price_type == None):\n",
    "    return df1.loc[s_date:e_date, 'Close']\n",
    "  elif(s_date != None and e_date == None and price_type == None):\n",
    "    return df1.loc[s_date, 'Close']\n",
    "  elif(s_date != None and e_date != None and price_type != None):\n",
    "    return df1.loc[s_date:e_date, price_type]\n",
    "  else: \n",
    "    return df1.loc[s_date, price_type]\n",
    "\n",
    "  \n",
    "  #if e_date in df1:\n",
    "  #  return df1.loc[s_date:e_date, 'Close']\n",
    "  #else: \n",
    "  #  return df1.loc[s_date, price_type]\n",
    "\n",
    "  #Open, High, Low, Close, Adj Close, or Volume  \n",
    "    "
   ]
  },
  {
   "cell_type": "code",
   "execution_count": 6,
   "metadata": {
    "colab": {
     "base_uri": "https://localhost:8080/"
    },
    "id": "DO2SKf6Ffi_i",
    "outputId": "96b70888-9bcd-4dea-d5a2-e4c2d470490c",
    "scrolled": true
   },
   "outputs": [
    {
     "data": {
      "text/plain": [
       "Date\n",
       "2019-02-06    101.578568\n",
       "2019-02-07    100.850456\n",
       "2019-02-08    101.233673\n",
       "2019-02-11    100.831314\n",
       "2019-02-12    102.402451\n",
       "Name: Adj Close, dtype: float64"
      ]
     },
     "execution_count": 6,
     "metadata": {},
     "output_type": "execute_result"
    }
   ],
   "source": [
    "get_stock_price('MSFT', '2019-02-06', e_date = '2019-2-13', price_type = 'Adj Close')"
   ]
  },
  {
   "cell_type": "markdown",
   "metadata": {
    "id": "OJNsIWAi8NBf"
   },
   "source": [
    "---\n",
    "## Part A2 - Get stock return:\n",
    "\n",
    "Write a function that takes a ticker, start date, and end data. The function should return the stock simple return value. Use **adjusted close price** for calculation. \n",
    "\n",
    "\n",
    "$$r = \\frac{p_{d2} - p_{d1}}{p_{d1}}$$\n",
    "\n",
    "Where:\n",
    "\n",
    "    r is simple return \n",
    "    p of t1 is price at date d1\n",
    "    p of t2 is price at date d2\n",
    "    \n",
    "Sample result:\n",
    "\n",
    "    [In]: get_stock_return('MSFT', '2018-01-05', '2018-12-28')\n",
    "    [Out]: XXX.XX"
   ]
  },
  {
   "cell_type": "code",
   "execution_count": 7,
   "metadata": {
    "id": "riUPRE2O8NBg"
   },
   "outputs": [],
   "source": [
    "def get_stock_return(ticker,s_date,e_date):\n",
    "  stock_return = yf.download(ticker,s_date,e_date,progress=False)\n",
    "\n",
    "  start_acp = stock_return.iloc[0]['Adj Close']\n",
    "  end_acp = stock_return.iloc[-1]['Adj Close']  \n",
    "\n",
    "  simple_return = (end_acp - start_acp) / start_acp\n",
    "\n",
    "  return round(simple_return,3) "
   ]
  },
  {
   "cell_type": "code",
   "execution_count": 8,
   "metadata": {
    "colab": {
     "base_uri": "https://localhost:8080/"
    },
    "id": "3ll1tQhHDQNl",
    "outputId": "2cc64d4e-70ff-4f48-e556-e6ef71a80091"
   },
   "outputs": [
    {
     "name": "stdout",
     "output_type": "stream",
     "text": [
      "0.167\n"
     ]
    }
   ],
   "source": [
    "print(get_stock_return('MSFT', '2018-01-05', '2018-12-28'))"
   ]
  },
  {
   "cell_type": "markdown",
   "metadata": {
    "id": "JoBNziZr8NBg"
   },
   "source": [
    "---\n",
    "## Part A3 - Get portfolio value: \n",
    "\n",
    "Write a function that takes a list of tickers, a list of ticker quantities, and a date. The function should return the total value of the portfolio for a given date.\n",
    "\n",
    "For example:\n",
    "\n",
    "    ['V', 'F'], [10, 20] -> 10 V shares,  20 F shares.\n",
    "\n",
    "Sample result:\n",
    "\n",
    "    [In]: get_portfolio_value(['V', 'F'], [10, 20] , '2020-11-05')\n",
    "    [Out]: XXX.XX"
   ]
  },
  {
   "cell_type": "code",
   "execution_count": 9,
   "metadata": {
    "id": "skkv56sb8NBh"
   },
   "outputs": [],
   "source": [
    "def get_portfolio_value(lst_tickers,lst_quantity, date):\n",
    "  total_value = 0\n",
    "\n",
    "  for i in range(len(lst_tickers)):\n",
    "    df = yf.download(lst_tickers[i],date,progress=False)\n",
    "    total_value += (df.iloc[0][4] * lst_quantity[i])\n",
    "  \n",
    "  return round(total_value,2)\n"
   ]
  },
  {
   "cell_type": "code",
   "execution_count": 10,
   "metadata": {
    "colab": {
     "base_uri": "https://localhost:8080/"
    },
    "id": "IjyxWEXjSgwb",
    "outputId": "223c75ab-ca1c-469b-f3dd-63e89c1ec98c"
   },
   "outputs": [
    {
     "data": {
      "text/plain": [
       "2100.63"
      ]
     },
     "execution_count": 10,
     "metadata": {},
     "output_type": "execute_result"
    }
   ],
   "source": [
    "get_portfolio_value(['V', 'F'], [10, 20] , '2020-11-05')\n"
   ]
  },
  {
   "cell_type": "code",
   "execution_count": 11,
   "metadata": {
    "colab": {
     "base_uri": "https://localhost:8080/",
     "height": 389
    },
    "id": "pSSCarvT2F3U",
    "outputId": "be945559-7e7c-40b0-96db-557e9d07c610"
   },
   "outputs": [
    {
     "name": "stdout",
     "output_type": "stream",
     "text": [
      "\n",
      "2 Failed downloads:\n",
      "- V: No data found for this date range, symbol may be delisted\n",
      "- F: No data found for this date range, symbol may be delisted\n"
     ]
    },
    {
     "ename": "IndexError",
     "evalue": "single positional indexer is out-of-bounds",
     "output_type": "error",
     "traceback": [
      "\u001b[0;31m---------------------------------------------------------------------------\u001b[0m",
      "\u001b[0;31mIndexError\u001b[0m                                Traceback (most recent call last)",
      "Input \u001b[0;32mIn [11]\u001b[0m, in \u001b[0;36m<cell line: 1>\u001b[0;34m()\u001b[0m\n\u001b[0;32m----> 1\u001b[0m \u001b[38;5;28mprint\u001b[39m(\u001b[43mget_stock_return\u001b[49m\u001b[43m(\u001b[49m\u001b[43m[\u001b[49m\u001b[38;5;124;43m'\u001b[39;49m\u001b[38;5;124;43mV\u001b[39;49m\u001b[38;5;124;43m'\u001b[39;49m\u001b[43m,\u001b[49m\u001b[38;5;124;43m'\u001b[39;49m\u001b[38;5;124;43mF\u001b[39;49m\u001b[38;5;124;43m'\u001b[39;49m\u001b[43m]\u001b[49m\u001b[43m,\u001b[49m\u001b[43m \u001b[49m\u001b[38;5;124;43m'\u001b[39;49m\u001b[38;5;124;43m2020-11-05\u001b[39;49m\u001b[38;5;124;43m'\u001b[39;49m\u001b[43m,\u001b[49m\u001b[43m \u001b[49m\u001b[38;5;124;43m'\u001b[39;49m\u001b[38;5;124;43m2020-11-05\u001b[39;49m\u001b[38;5;124;43m'\u001b[39;49m\u001b[43m)\u001b[49m)\n",
      "Input \u001b[0;32mIn [7]\u001b[0m, in \u001b[0;36mget_stock_return\u001b[0;34m(ticker, s_date, e_date)\u001b[0m\n\u001b[1;32m      1\u001b[0m \u001b[38;5;28;01mdef\u001b[39;00m \u001b[38;5;21mget_stock_return\u001b[39m(ticker,s_date,e_date):\n\u001b[1;32m      2\u001b[0m   stock_return \u001b[38;5;241m=\u001b[39m yf\u001b[38;5;241m.\u001b[39mdownload(ticker,s_date,e_date,progress\u001b[38;5;241m=\u001b[39m\u001b[38;5;28;01mFalse\u001b[39;00m)\n\u001b[0;32m----> 4\u001b[0m   start_acp \u001b[38;5;241m=\u001b[39m \u001b[43mstock_return\u001b[49m\u001b[38;5;241;43m.\u001b[39;49m\u001b[43miloc\u001b[49m\u001b[43m[\u001b[49m\u001b[38;5;241;43m0\u001b[39;49m\u001b[43m]\u001b[49m[\u001b[38;5;124m'\u001b[39m\u001b[38;5;124mAdj Close\u001b[39m\u001b[38;5;124m'\u001b[39m]\n\u001b[1;32m      5\u001b[0m   end_acp \u001b[38;5;241m=\u001b[39m stock_return\u001b[38;5;241m.\u001b[39miloc[\u001b[38;5;241m-\u001b[39m\u001b[38;5;241m1\u001b[39m][\u001b[38;5;124m'\u001b[39m\u001b[38;5;124mAdj Close\u001b[39m\u001b[38;5;124m'\u001b[39m]  \n\u001b[1;32m      7\u001b[0m   simple_return \u001b[38;5;241m=\u001b[39m (end_acp \u001b[38;5;241m-\u001b[39m start_acp) \u001b[38;5;241m/\u001b[39m start_acp\n",
      "File \u001b[0;32m~/opt/anaconda3/lib/python3.9/site-packages/pandas/core/indexing.py:967\u001b[0m, in \u001b[0;36m_LocationIndexer.__getitem__\u001b[0;34m(self, key)\u001b[0m\n\u001b[1;32m    964\u001b[0m axis \u001b[38;5;241m=\u001b[39m \u001b[38;5;28mself\u001b[39m\u001b[38;5;241m.\u001b[39maxis \u001b[38;5;129;01mor\u001b[39;00m \u001b[38;5;241m0\u001b[39m\n\u001b[1;32m    966\u001b[0m maybe_callable \u001b[38;5;241m=\u001b[39m com\u001b[38;5;241m.\u001b[39mapply_if_callable(key, \u001b[38;5;28mself\u001b[39m\u001b[38;5;241m.\u001b[39mobj)\n\u001b[0;32m--> 967\u001b[0m \u001b[38;5;28;01mreturn\u001b[39;00m \u001b[38;5;28;43mself\u001b[39;49m\u001b[38;5;241;43m.\u001b[39;49m\u001b[43m_getitem_axis\u001b[49m\u001b[43m(\u001b[49m\u001b[43mmaybe_callable\u001b[49m\u001b[43m,\u001b[49m\u001b[43m \u001b[49m\u001b[43maxis\u001b[49m\u001b[38;5;241;43m=\u001b[39;49m\u001b[43maxis\u001b[49m\u001b[43m)\u001b[49m\n",
      "File \u001b[0;32m~/opt/anaconda3/lib/python3.9/site-packages/pandas/core/indexing.py:1520\u001b[0m, in \u001b[0;36m_iLocIndexer._getitem_axis\u001b[0;34m(self, key, axis)\u001b[0m\n\u001b[1;32m   1517\u001b[0m     \u001b[38;5;28;01mraise\u001b[39;00m \u001b[38;5;167;01mTypeError\u001b[39;00m(\u001b[38;5;124m\"\u001b[39m\u001b[38;5;124mCannot index by location index with a non-integer key\u001b[39m\u001b[38;5;124m\"\u001b[39m)\n\u001b[1;32m   1519\u001b[0m \u001b[38;5;66;03m# validate the location\u001b[39;00m\n\u001b[0;32m-> 1520\u001b[0m \u001b[38;5;28;43mself\u001b[39;49m\u001b[38;5;241;43m.\u001b[39;49m\u001b[43m_validate_integer\u001b[49m\u001b[43m(\u001b[49m\u001b[43mkey\u001b[49m\u001b[43m,\u001b[49m\u001b[43m \u001b[49m\u001b[43maxis\u001b[49m\u001b[43m)\u001b[49m\n\u001b[1;32m   1522\u001b[0m \u001b[38;5;28;01mreturn\u001b[39;00m \u001b[38;5;28mself\u001b[39m\u001b[38;5;241m.\u001b[39mobj\u001b[38;5;241m.\u001b[39m_ixs(key, axis\u001b[38;5;241m=\u001b[39maxis)\n",
      "File \u001b[0;32m~/opt/anaconda3/lib/python3.9/site-packages/pandas/core/indexing.py:1452\u001b[0m, in \u001b[0;36m_iLocIndexer._validate_integer\u001b[0;34m(self, key, axis)\u001b[0m\n\u001b[1;32m   1450\u001b[0m len_axis \u001b[38;5;241m=\u001b[39m \u001b[38;5;28mlen\u001b[39m(\u001b[38;5;28mself\u001b[39m\u001b[38;5;241m.\u001b[39mobj\u001b[38;5;241m.\u001b[39m_get_axis(axis))\n\u001b[1;32m   1451\u001b[0m \u001b[38;5;28;01mif\u001b[39;00m key \u001b[38;5;241m>\u001b[39m\u001b[38;5;241m=\u001b[39m len_axis \u001b[38;5;129;01mor\u001b[39;00m key \u001b[38;5;241m<\u001b[39m \u001b[38;5;241m-\u001b[39mlen_axis:\n\u001b[0;32m-> 1452\u001b[0m     \u001b[38;5;28;01mraise\u001b[39;00m \u001b[38;5;167;01mIndexError\u001b[39;00m(\u001b[38;5;124m\"\u001b[39m\u001b[38;5;124msingle positional indexer is out-of-bounds\u001b[39m\u001b[38;5;124m\"\u001b[39m)\n",
      "\u001b[0;31mIndexError\u001b[0m: single positional indexer is out-of-bounds"
     ]
    }
   ],
   "source": [
    "print(get_stock_return(['V','F'], '2020-11-05', '2020-11-05'))"
   ]
  },
  {
   "cell_type": "markdown",
   "metadata": {
    "id": "_d_Qoo-p8NBi"
   },
   "source": [
    "---\n",
    "## Part A4 - Get portfolio return: \n",
    "\n",
    "Write a function that takes a list of tickers, a list of ticker quantities, start date, and end date. The function should return the overall simple return on the portfolio.\n",
    "\n",
    "Sample result:\n",
    "\n",
    "    [In]: get_portfolio_return(['FB', 'MSFT', 'F'], [3, 5, 20], '2019-10-1', '2019-10-10')\n",
    "    [Out]: XXX.XX\n",
    "    "
   ]
  },
  {
   "cell_type": "code",
   "execution_count": 12,
   "metadata": {
    "id": "xVqSREjqdubH"
   },
   "outputs": [],
   "source": [
    "#from os import lstat #Add try and except to avoid issues for stocks delist i.e FB\n",
    "def get_portfolio_return(lst_tickers,lst_quantities,s_date,e_date):\n",
    "    initial_value = 0\n",
    "    current_value = 0\n",
    "    try:\n",
    "      for i in range(len(lst_tickers)):\n",
    "        df_s = yf.download(lst_tickers[i],s_date,progress=False)\n",
    "        initial_value += (df_s.iloc[0][4] * lst_quantities[i])\n",
    "\n",
    "      for i in range(len(lst_tickers)):\n",
    "\n",
    "        df_s = yf.download(lst_tickers[i],s_date,progress=False)\n",
    "        current_value += (df_s.iloc[-1][4] * lst_quantities[i])\n",
    "\n",
    "      simple_return = (current_value - initial_value) / initial_value\n",
    "\n",
    "      return round(simple_return,3)\n",
    "    except:\n",
    "      print('This stock at index at', i,'is not availale')\n",
    "  "
   ]
  },
  {
   "cell_type": "code",
   "execution_count": 13,
   "metadata": {
    "colab": {
     "base_uri": "https://localhost:8080/"
    },
    "id": "aYeXRJXfsPBN",
    "outputId": "b81ab865-78b1-4f30-fa32-cf520a775f1c"
   },
   "outputs": [
    {
     "name": "stdout",
     "output_type": "stream",
     "text": [
      "Got error from yahoo api for ticker FB, Error: {'code': 'Not Found', 'description': 'No data found, symbol may be delisted'}\n",
      "\n",
      "1 Failed download:\n",
      "- FB: No data found for this date range, symbol may be delisted\n",
      "This stock at index at 0 is not availale\n"
     ]
    }
   ],
   "source": [
    "get_portfolio_return(['FB', 'MSFT', 'F'], [3, 5, 20], '2019-10-1', '2019-10-10')"
   ]
  },
  {
   "cell_type": "code",
   "execution_count": 14,
   "metadata": {
    "colab": {
     "base_uri": "https://localhost:8080/",
     "height": 133
    },
    "id": "8gMGU34F8NBi",
    "outputId": "2b0f089c-a3e4-453e-b44e-6a4498c3759c"
   },
   "outputs": [
    {
     "ename": "IndentationError",
     "evalue": "unexpected indent (1222685669.py, line 3)",
     "output_type": "error",
     "traceback": [
      "\u001b[0;36m  Input \u001b[0;32mIn [14]\u001b[0;36m\u001b[0m\n\u001b[0;31m    df4 = yf.download(lst_ticker[i],date,progress=False)\u001b[0m\n\u001b[0m    ^\u001b[0m\n\u001b[0;31mIndentationError\u001b[0m\u001b[0;31m:\u001b[0m unexpected indent\n"
     ]
    }
   ],
   "source": [
    "#def get_portfolio_return(lst_ticker,s_date,e_date):\n",
    " # [takes a list of tickers], [quantities], start_date, end_date)   \n",
    " df4 = yf.download(lst_ticker[i],date,progress=False)\n",
    " df[returns]= (df[price_t])/df[]\n",
    "\n",
    "simple_return = (current_value - initial_value) / initital_value"
   ]
  },
  {
   "cell_type": "code",
   "execution_count": 15,
   "metadata": {
    "colab": {
     "base_uri": "https://localhost:8080/"
    },
    "id": "jKC7LJ-GdwgZ",
    "outputId": "84eb6dee-4fa8-43de-afa4-a6423227f4d2"
   },
   "outputs": [
    {
     "name": "stdout",
     "output_type": "stream",
     "text": [
      "Got error from yahoo api for ticker FB, Error: {'code': 'Not Found', 'description': 'No data found, symbol may be delisted'}\n",
      "\n",
      "1 Failed download:\n",
      "- FB: No data found for this date range, symbol may be delisted\n",
      "This stock at index at 0 is not availale\n"
     ]
    }
   ],
   "source": [
    "get_portfolio_return(['FB', 'MSFT', 'F'], [3, 5, 20], '2019-10-1', '2019-10-10')"
   ]
  },
  {
   "cell_type": "markdown",
   "metadata": {
    "id": "2X8NXXMg8NBj"
   },
   "source": [
    "---\n",
    "## Part A5 - Beta value: \n",
    "\n",
    "**Beta** is a measure used in the fundamental analysis to determine the volatility of an asset or portfolio in relation to the overall market. To calculate the beta of a security, the covariance between the return of the security and the return of market must be known, as well as the variance of the market returns. \n",
    "\n",
    "$$\\beta = \\frac{Cov(r_p, r_b)}{Var(r_b)}$$\n",
    "\n",
    "**SPY** is an index fund that is based on the S&P 500 Index. Each share of the traditional SPDR ETFs holds a stake in the 500 stocks represented by the S&P 500. Let's assume that **SPY** is representing the market for calculating the beta.\n",
    "\n",
    "* If beta is less than one, the stock is less volatile than the market as a whole.\n",
    "* If beta is greater than one, the stock is more volatile than the market as a whole.\n",
    "* If beta is less than zero, the stock is losing money while the market as whole is gaining.\n",
    "\n",
    "\n",
    "Go to https://www.investopedia.com/articles/financial-theory/09/calculating-beta.asp and https://www.youtube.com/watch?v=zlClflcSrM8 for information on **How to Calculate Beta**. \n",
    "\n",
    "Source: Investopedia  \n",
    "\n",
    "\n",
    "Write a Python function that takes ticker, start date, and end date. The function should return the beta for a given stock. "
   ]
  },
  {
   "cell_type": "code",
   "execution_count": 16,
   "metadata": {
    "id": "ASbAChS68NBk"
   },
   "outputs": [],
   "source": [
    "def beta(ticker, start_date, end_date):\n",
    "\n",
    "  #Calculating Beta\n",
    "    #Convert Prices to % change = $today - $yesterday / $today\n",
    "    #SPY represents Market\n",
    "    #Beta = ((COVARIANCE of % Change SPY & % Change MSFT) / VAR of SPY % Change )\n",
    "\n",
    "    symbol = [ticker, 'SPY']\n",
    "    df = yf.download(symbol, start_date, end_date)['Adj Close']\n",
    "\n",
    "    log_returns = np.log(df/df.shift())\n",
    "\n",
    "    cov = log_returns.cov()\n",
    "    var = log_returns['SPY'].var()\n",
    "\n",
    "    beta = cov.loc[ticker, 'SPY']/var\n",
    "\n",
    "    return beta\n",
    "\n"
   ]
  },
  {
   "cell_type": "code",
   "execution_count": 17,
   "metadata": {
    "colab": {
     "base_uri": "https://localhost:8080/"
    },
    "id": "Ug5Yy9HsKyS0",
    "outputId": "cecadf6d-cf86-4d38-96a9-c6a02b8dc780"
   },
   "outputs": [
    {
     "name": "stdout",
     "output_type": "stream",
     "text": [
      "[*********************100%***********************]  2 of 2 completed\n"
     ]
    },
    {
     "data": {
      "text/plain": [
       "1.2095508123724106"
      ]
     },
     "execution_count": 17,
     "metadata": {},
     "output_type": "execute_result"
    }
   ],
   "source": [
    "beta('MSFT', '2016-12-1', '2022-1-1')"
   ]
  },
  {
   "cell_type": "markdown",
   "metadata": {
    "id": "GxP72qXK8NBk"
   },
   "source": [
    "---\n",
    "## Part B1 - Stock Analysis: \n",
    "\n",
    "Write a Python statement that can generate a comprehensive report for a given stock. You can use any python library for this part, and you must use at least one new library that we have not covered in class. The visualization libraries, yfinance, NumPy, and web scraping are not considered new libraries. The new library should help you with your analysis.\n",
    "\n",
    "The report may generate the following information:\n",
    "\n",
    "* The current stock price.\n",
    "* The current market cap.\n",
    "* Measures such as EPS, PE Ratio, etc.\n",
    "* At least 3 informative graphs.\n",
    "* Company Profile.\n",
    "* Any other relative information, such as news about the company.\n",
    "\n",
    "Be creative and try to collect as much data as you can. Test your code for AAPL, TSLA, and TWTR stocks.\n"
   ]
  },
  {
   "cell_type": "code",
   "execution_count": 18,
   "metadata": {
    "id": "T-zmtmy6Lf2v"
   },
   "outputs": [],
   "source": [
    "def newsupdate(ticker):\n",
    "    url = 'https://www.nasdaq.com/market-activity/stocks/'+ticker+'/news-headlines'\n",
    "    response = requests.get(url)\n",
    "    soup = BeautifulSoup(response.text,'html.parser')\n",
    "    \n",
    "    news = soup.find_all('h1', attrs={'class' : \"quote-subdetail__title\"}).text\n",
    "    print(color.BOLD +'Current News:'+color.END,news)"
   ]
  },
  {
   "cell_type": "code",
   "execution_count": 19,
   "metadata": {
    "id": "FfaQNdJmVZ6_"
   },
   "outputs": [],
   "source": [
    "def company_profile(ticker):\n",
    "  class color:\n",
    "    END = '\\033[0m'\n",
    "    BOLD = '\\033[1m'  \n",
    "  print('Company Profile For',ticker.upper())\n",
    "  #Send HTTP requests to retrieve data and parse HTML\n",
    "  try:\n",
    "    url = 'https://www.marketwatch.com/investing/stock/'+ ticker +'/company-profile'\n",
    "    response = requests.get(url)\n",
    "    soup = BeautifulSoup(response.text,'html.parser')\n",
    "\n",
    "    #Company Name\n",
    "    company_name = soup.find_all('h4', attrs={'class' : 'heading'})[0].text\n",
    "    print(color.BOLD +'Company Name:'+ color.END,company_name)\n",
    "    #Address\n",
    "    address = soup.find_all('div', attrs={'class' : 'address'})[0].text.replace('\\n',' ')\n",
    "    print(color.BOLD +'Address:'+color.END,address)\n",
    "    #Phone Number\n",
    "    phone_number = soup.find_all('div', attrs={'class' : 'phone'})[0].text.replace('\\n',' ')\n",
    "    print(color.BOLD +'Phone #:'+color.END,phone_number)\n",
    "    #Industry\n",
    "    industry = soup.find_all('li', attrs={'class' : 'kv__item w100'})[0].text.replace('\\n','').replace('Industry','')\n",
    "    print(color.BOLD +'Industry:'+color.END,industry)\n",
    "    #Sector\n",
    "    sector = soup.find_all('li', attrs={'class' : 'kv__item w100'})[1].text.replace('\\n',' ').replace('Sector',' ')\n",
    "    print(color.BOLD +'Sector:'+color.END,sector)\n",
    "    #Fiscal Year\n",
    "    fiscal_year = soup.find_all('li', attrs={'class' : \"kv__item\"})[2].text.replace('\\n','').replace('Fiscal Year-end','')\n",
    "    print(color.BOLD +'Fiscal Year-end:'+color.END,fiscal_year)\n",
    "  #Revenue \n",
    "    revenue = soup.find_all('li', attrs={'class' : \"kv__item\"})[3].text.replace('Revenue',' ').replace('\\n',' ')\n",
    "    print(color.BOLD +'Revenue:'+color.END,revenue)\n",
    "    #Net Income\n",
    "    net_income = soup.find_all('li', attrs={'class' : \"kv__item\"})[4].text.replace('Net Income','').replace('\\n','')\n",
    "    print(color.BOLD +'Net Income:'+color.END,net_income)\n",
    "    #Sales Growth\n",
    "    sales_growth = soup.find_all('li', attrs={'class' : \"kv__item\"})[5].text.replace('2021 Sales Growth','').replace('\\n','')\n",
    "    print(color.BOLD +'Sales Growth:'+color.END,sales_growth)\n",
    "    #Employees\n",
    "    employees = soup.find_all('li', attrs={'class' : \"kv__item\"})[6].text.replace('Employees','').replace('\\n','')\n",
    "    print(color.BOLD +'Employees:'+ color.END,employees)\n",
    "  except:\n",
    "    print('Stock Information is not available')\n"
   ]
  },
  {
   "cell_type": "code",
   "execution_count": 20,
   "metadata": {
    "id": "uy3hmlxZ2m3A"
   },
   "outputs": [],
   "source": [
    "def companyProfile(ticker):\n",
    "    \n",
    "    class color:\n",
    "        END = '\\033[0m'\n",
    "        BOLD = '\\033[1m'\n",
    "    \n",
    "    print('----------',color.BOLD +'Company Profile for'+color.END,ticker.upper(),'----------')\n",
    "    url = 'https://money.cnn.com/quote/profile/profile.html?symb='+ticker\n",
    "    response = requests.get(url)\n",
    "    soup = BeautifulSoup(response.text,'html.parser')\n",
    "\n",
    "    #Name\n",
    "    name = soup.find_all('title')[0].text\n",
    "    name = soup.find_all('h1', attrs={'style' : \"margin-top:6px;\"})[0].text.replace('(NASDAQ:'+ticker,'').replace(')','')\n",
    "    print(color.BOLD +'Name:'+color.END,name)\n",
    "\n",
    "    #Address\n",
    "    address = soup.find_all('div', attrs={'class' : \"wsod_bold\"})[0].next.next.text\n",
    "    print(color.BOLD +'Address:'+color.END,address)\n",
    "    \n",
    "    #Phone Number\n",
    "    phone_num = soup.find_all('span',attrs={'class' : \"wsod_companyPhonePrefix\"})[0].next.next.text\n",
    "    print(color.BOLD +'Phone Number:'+color.END,phone_num)\n",
    "\n",
    "    #Sector\n",
    "    sector = soup.find_all('td', attrs={'class' : \"wsod_tdFirst\"})[0].text.replace('SECTOR','')\n",
    "    print(color.BOLD +'Sector:'+color.END,sector)\n",
    "    \n",
    "    #Industry\n",
    "    industry = soup.find_all('td', attrs={'class' : \"wsod_tdFirst\"})[0].next.next.next.next.text.replace('INDUSTRY','')\n",
    "    print(color.BOLD +'Industry:'+color.END,industry)\n",
    "    \n",
    "    #Market Cap\n",
    "    market_cap = soup.find_all('td', attrs={'class' : \"wsod_tdLast\"})[0].text.replace('MARKET CAP','')\n",
    "    print(color.BOLD +'Market Cap:'+color.END,market_cap)\n",
    "    \n",
    "    #CEO\n",
    "    CEO_name = soup.find_all('td', attrs={'class' : \"wsod_officerName\"})[0].text.replace('MARKET CAP','')\n",
    "    print(color.BOLD +'CEO Name:'+color.END,CEO_name)\n",
    "\n",
    "    #Website\n",
    "    website = soup.find_all('span',attrs={'class' : \"wsod_companyPhonePrefix\"})[0].next.next.next.next.next.next.next.next.text\n",
    "    print(color.BOLD +'Website:'+color.END,website)\n",
    "    \n",
    "    #Shareholders\n",
    "    mutual_fund_holders = soup.find_all('td',attrs={'class' : \"wsod_quoteDataPoint\"})[0].next.text\n",
    "    print(color.BOLD +'Mutual fund holders:'+color.END,mutual_fund_holders)\n",
    "    \n",
    "    individual_shareholders = soup.find_all('td',attrs={'class' : \"wsod_quoteDataPoint\"})[1].next.next.next.next.next.text\n",
    "    print(color.BOLD +'Individual stakeholders:'+color.END,individual_shareholders)\n",
    "    \n",
    "    print('-'* 50)\n",
    "    \n",
    "    #Company Description\n",
    "    company_overview = soup.find_all('div', attrs={'id' : \"wsod_companyDescription\"})[0].text.replace('MARKET CAP','')\n",
    "    print(color.BOLD +'Overview:'+color.END,company_overview)\n",
    "\n"
   ]
  },
  {
   "cell_type": "code",
   "execution_count": 21,
   "metadata": {
    "colab": {
     "base_uri": "https://localhost:8080/",
     "height": 371
    },
    "id": "AUAzYjtT2rI-",
    "outputId": "8d62abb0-7705-4da8-da42-7bcd1095975c"
   },
   "outputs": [
    {
     "name": "stdout",
     "output_type": "stream",
     "text": [
      "---------- \u001b[1mCompany Profile for\u001b[0m AAPL ----------\n",
      "\u001b[1mName:\u001b[0m Apple Inc \n",
      "\u001b[1mAddress:\u001b[0m One Apple Park Way\n",
      "\u001b[1mPhone Number:\u001b[0m (408) 996-1010\n",
      "\u001b[1mSector:\u001b[0m Electronic Technology\n",
      "\u001b[1mIndustry:\u001b[0m Telecommunications Equipment\n",
      "\u001b[1mMarket Cap:\u001b[0m $2.4T\n",
      "\u001b[1mCEO Name:\u001b[0m Tim Cook\n",
      "\u001b[1mWebsite:\u001b[0m www.apple.com\n",
      "\u001b[1mMutual fund holders:\u001b[0m 30.54%\n",
      "\u001b[1mIndividual stakeholders:\u001b[0m 0.35%\n",
      "--------------------------------------------------\n",
      "\u001b[1mOverview:\u001b[0m Apple, Inc. engages in the design, manufacture, and sale of smartphones, personal computers, tablets, wearables and accessories, and other varieties of related services. It operates through the following geographical segments: Americas, Europe, Greater China, Japan, and Rest of Asia Pacific. The Americas segment includes North and South America. The Europe segment consists of European countries, as well as India, the Middle East, and Africa. The Greater China segment comprises China, Hong Kong, and Taiwan. The Rest of Asia Pacific segment includes Australia and Asian countries. Its products and services include iPhone, Mac, iPad, AirPods, Apple TV, Apple Watch, Beats products, AppleCare, iCloud, digital content stores, streaming, and licensing services. The company was founded by Steven Paul Jobs, Ronald Gerald Wayne, and Stephen G. Wozniak in April 1976 and is headquartered in Cupertino, CA.\n"
     ]
    }
   ],
   "source": [
    "companyProfile('AAPL')"
   ]
  },
  {
   "cell_type": "code",
   "execution_count": 22,
   "metadata": {
    "colab": {
     "base_uri": "https://localhost:8080/"
    },
    "id": "li7bYTjJPgzW",
    "outputId": "ab082bba-e703-45a1-9924-444c6b358f23"
   },
   "outputs": [
    {
     "name": "stdout",
     "output_type": "stream",
     "text": [
      "Company Profile For AAPL\n",
      "\u001b[1mCompany Name:\u001b[0m Apple Inc.\n",
      "\u001b[1mAddress:\u001b[0m  One Apple Park Way Cupertino, California 95014-2083  \n",
      "\u001b[1mPhone #:\u001b[0m  Phone 1 408 996-1010 \n",
      "\u001b[1mIndustry:\u001b[0m Computers/Consumer Electronics\n",
      "\u001b[1mSector:\u001b[0m    Technology \n",
      "\u001b[1mFiscal Year-end:\u001b[0m 01/0002\n",
      "\u001b[1mRevenue:\u001b[0m    $394.33B \n",
      "\u001b[1mNet Income:\u001b[0m $99.8B\n",
      "\u001b[1mSales Growth:\u001b[0m 2022 Sales GrowthN/A\n",
      "\u001b[1mEmployees:\u001b[0m N/A\n"
     ]
    }
   ],
   "source": [
    "company_profile('AAPL')"
   ]
  },
  {
   "cell_type": "code",
   "execution_count": 23,
   "metadata": {
    "colab": {
     "base_uri": "https://localhost:8080/",
     "height": 329
    },
    "id": "8Y0Atd13Ngvu",
    "outputId": "d5d325b1-ecc5-4ac9-e47d-2240436d27fa"
   },
   "outputs": [
    {
     "data": {
      "text/html": [
       "<div>\n",
       "<style scoped>\n",
       "    .dataframe tbody tr th:only-of-type {\n",
       "        vertical-align: middle;\n",
       "    }\n",
       "\n",
       "    .dataframe tbody tr th {\n",
       "        vertical-align: top;\n",
       "    }\n",
       "\n",
       "    .dataframe thead th {\n",
       "        text-align: right;\n",
       "    }\n",
       "</style>\n",
       "<table border=\"1\" class=\"dataframe\">\n",
       "  <thead>\n",
       "    <tr style=\"text-align: right;\">\n",
       "      <th></th>\n",
       "      <th>Current Price</th>\n",
       "      <th>Market Cap</th>\n",
       "      <th>Trailing EPS</th>\n",
       "      <th>Forward EPS</th>\n",
       "      <th>Current Ratio</th>\n",
       "      <th>Quick Ratio</th>\n",
       "    </tr>\n",
       "  </thead>\n",
       "  <tbody>\n",
       "    <tr>\n",
       "      <th>yfinance.Ticker object &lt;AAPL&gt;</th>\n",
       "      <td>144.22</td>\n",
       "      <td>2.294266e+12</td>\n",
       "      <td>6.11</td>\n",
       "      <td>6.81</td>\n",
       "      <td>0.879</td>\n",
       "      <td>0.709</td>\n",
       "    </tr>\n",
       "  </tbody>\n",
       "</table>\n",
       "</div>"
      ],
      "text/plain": [
       "                               Current Price    Market Cap  Trailing EPS  \\\n",
       "yfinance.Ticker object <AAPL>         144.22  2.294266e+12          6.11   \n",
       "\n",
       "                               Forward EPS  Current Ratio  Quick Ratio  \n",
       "yfinance.Ticker object <AAPL>         6.81          0.879        0.709  "
      ]
     },
     "execution_count": 23,
     "metadata": {},
     "output_type": "execute_result"
    }
   ],
   "source": [
    "def key_statistics(ticker):\n",
    "  ticker = yf.Ticker(ticker)\n",
    "\n",
    "\n",
    "  key_stats = [\n",
    "      [ticker.info['currentPrice']],\n",
    "      [ticker.info['marketCap']], \n",
    "      [ticker.info['trailingEps']],\n",
    "      [ticker.info['forwardEps']],\n",
    "      [ticker.info['currentRatio']],\n",
    "      [ticker.info['quickRatio']]\n",
    "      ]\n",
    "\n",
    "  stats= pd.DataFrame(key_stats)\n",
    "  #switch columns in df\n",
    "  final_stats = stats.T\n",
    "\n",
    "  #rename indexes\n",
    "  final_stats.index = [ticker]\n",
    "  #rename columns \n",
    "  final_stats.columns = ['Current Price', 'Market Cap','Trailing EPS', 'Forward EPS', 'Current Ratio', 'Quick Ratio']\n",
    "  return final_stats \n",
    "\n",
    "\n",
    "key_statistics('AAPL')"
   ]
  },
  {
   "cell_type": "code",
   "execution_count": 24,
   "metadata": {
    "colab": {
     "base_uri": "https://localhost:8080/",
     "height": 1000
    },
    "id": "E4cJXy7NNoK-",
    "outputId": "18971ab2-cbdb-4204-f663-d044ee0e8b33"
   },
   "outputs": [
    {
     "data": {
      "image/png": "[encoded data removed]",
      "text/plain": [
       "<Figure size 432x288 with 1 Axes>"
      ]
     },
     "metadata": {},
     "output_type": "display_data"
    },
    {
     "data": {
      "image/png": "[encoded data removed]",
      "text/plain": [
       "<Figure size 432x288 with 1 Axes>"
      ]
     },
     "metadata": {},
     "output_type": "display_data"
    },
    {
     "data": {
      "image/png": "[encoded data removed]",
      "text/plain": [
       "<Figure size 432x288 with 1 Axes>"
      ]
     },
     "metadata": {},
     "output_type": "display_data"
    }
   ],
   "source": [
    "import yahoo_fin.stock_info as yf\n",
    "\n",
    "def key_graphs(ticker):\n",
    "\n",
    "  inc_s = yf.get_income_statement(ticker)\n",
    "  bal_s = yf.get_balance_sheet(ticker)\n",
    "\n",
    "  #create pds from yf.get_finance\n",
    "  is_df = pd.DataFrame(inc_s)\n",
    "  bal_df = pd.DataFrame(bal_s)\n",
    "\n",
    "  #key graph: Gross Profit\n",
    "  sns.barplot(data=is_df.iloc[[6]],color='green').set(title='Gross Profit')\n",
    "\n",
    "  plt.xlabel(\"Date\", size = 14)\n",
    "  plt.ylabel(\"($MMM)\", size = 14)\n",
    "  plt.xticks(rotation=30)\n",
    "  plt.show()\n",
    "\n",
    "\n",
    "  #Total Asset Graph \n",
    "  sns.barplot(data=bal_df.iloc[[3]],color='green').set(title='Total Assets')\n",
    "  plt.xlabel(\"Date\", size = 14)\n",
    "  plt.ylabel('($MMM)', size = 14)\n",
    "  plt.xticks(rotation=30)\n",
    "  plt.show()\n",
    "\n",
    "  #Total Liabilities Graph \n",
    "  sns.barplot(data=bal_df.iloc[[0]],color='red').set(title='Total Liabilities')\n",
    "  plt.xlabel(\"Date\", size = 14)\n",
    "  plt.ylabel(\"($MMM)\", size = 14)\n",
    "  plt.xticks(rotation=30)\n",
    "  plt.show()\n",
    "\n",
    "\n",
    "key_graphs('AAPL')\n",
    "\n",
    "\n",
    "\n",
    "\n"
   ]
  },
  {
   "cell_type": "code",
   "execution_count": 33,
   "metadata": {
    "colab": {
     "base_uri": "https://localhost:8080/",
     "height": 542
    },
    "id": "Y8XHAW-_6ko7",
    "outputId": "9c52fb4e-5963-432e-df83-ec4aae335392"
   },
   "outputs": [
    {
     "ename": "AttributeError",
     "evalue": "module 'yahoo_fin.stock_info' has no attribute 'download'",
     "output_type": "error",
     "traceback": [
      "\u001b[0;31m---------------------------------------------------------------------------\u001b[0m",
      "\u001b[0;31mAttributeError\u001b[0m                            Traceback (most recent call last)",
      "Input \u001b[0;32mIn [33]\u001b[0m, in \u001b[0;36m<cell line: 30>\u001b[0;34m()\u001b[0m\n\u001b[1;32m     27\u001b[0m     fig\u001b[38;5;241m.\u001b[39mupdate(layout_xaxis_rangeslider_visible\u001b[38;5;241m=\u001b[39m\u001b[38;5;28;01mTrue\u001b[39;00m)\n\u001b[1;32m     28\u001b[0m     fig\u001b[38;5;241m.\u001b[39mshow(renderer\u001b[38;5;241m=\u001b[39m\u001b[38;5;124m\"\u001b[39m\u001b[38;5;124mcolab\u001b[39m\u001b[38;5;124m\"\u001b[39m)\n\u001b[0;32m---> 30\u001b[0m \u001b[43mcreate_stock_chart\u001b[49m\u001b[43m(\u001b[49m\u001b[38;5;124;43m'\u001b[39;49m\u001b[38;5;124;43mAAPL\u001b[39;49m\u001b[38;5;124;43m'\u001b[39;49m\u001b[43m,\u001b[49m\u001b[43m \u001b[49m\u001b[38;5;124;43m'\u001b[39;49m\u001b[38;5;124;43m2018-01-01\u001b[39;49m\u001b[38;5;124;43m'\u001b[39;49m\u001b[43m,\u001b[49m\u001b[43m \u001b[49m\u001b[38;5;124;43m'\u001b[39;49m\u001b[38;5;124;43m2022-11-25\u001b[39;49m\u001b[38;5;124;43m'\u001b[39;49m\u001b[43m)\u001b[49m\n",
      "Input \u001b[0;32mIn [33]\u001b[0m, in \u001b[0;36mcreate_stock_chart\u001b[0;34m(ticker, s_date, e_date, progress)\u001b[0m\n\u001b[1;32m      1\u001b[0m \u001b[38;5;28;01mdef\u001b[39;00m \u001b[38;5;21mcreate_stock_chart\u001b[39m(ticker, s_date, e_date, progress\u001b[38;5;241m=\u001b[39m\u001b[38;5;28;01mFalse\u001b[39;00m):\n\u001b[0;32m----> 2\u001b[0m     df \u001b[38;5;241m=\u001b[39m \u001b[43myf\u001b[49m\u001b[38;5;241;43m.\u001b[39;49m\u001b[43mdownload\u001b[49m(ticker, s_date, e_date, progress\u001b[38;5;241m=\u001b[39m\u001b[38;5;28;01mFalse\u001b[39;00m)\n\u001b[1;32m      3\u001b[0m     df[\u001b[38;5;124m'\u001b[39m\u001b[38;5;124mMoving Average 50\u001b[39m\u001b[38;5;124m'\u001b[39m] \u001b[38;5;241m=\u001b[39m df[\u001b[38;5;124m'\u001b[39m\u001b[38;5;124mClose\u001b[39m\u001b[38;5;124m'\u001b[39m]\u001b[38;5;241m.\u001b[39mrolling(\u001b[38;5;241m50\u001b[39m)\u001b[38;5;241m.\u001b[39mmean()\n\u001b[1;32m      4\u001b[0m     df[\u001b[38;5;124m'\u001b[39m\u001b[38;5;124mMoving Average 200\u001b[39m\u001b[38;5;124m'\u001b[39m] \u001b[38;5;241m=\u001b[39m df[\u001b[38;5;124m'\u001b[39m\u001b[38;5;124mClose\u001b[39m\u001b[38;5;124m'\u001b[39m]\u001b[38;5;241m.\u001b[39mrolling(\u001b[38;5;241m200\u001b[39m)\u001b[38;5;241m.\u001b[39mmean()\n",
      "\u001b[0;31mAttributeError\u001b[0m: module 'yahoo_fin.stock_info' has no attribute 'download'"
     ]
    }
   ],
   "source": [
    "def create_stock_chart(ticker, s_date, e_date, progress=False):\n",
    "    df = yf.download(ticker, s_date, e_date, progress=False)\n",
    "    df['Moving Average 50'] = df['Close'].rolling(50).mean()\n",
    "    df['Moving Average 200'] = df['Close'].rolling(200).mean()\n",
    "    \n",
    "    fig = make_subplots(rows=2, cols=1, shared_xaxes=True, \n",
    "                vertical_spacing=0.10, subplot_titles=(ticker, 'Volume'), \n",
    "                row_width=[0.2, 0.8])\n",
    "    fig.add_trace(go.Candlestick(x=df.index, open=df[\"Open\"], high=df[\"High\"], low=df[\"Low\"], close=df[\"Close\"], name=\"Open-High-Low-Close\"), row=1, col=1)\n",
    "\n",
    "    fig.add_trace(go.Scatter(x=df.index, y=df[\"Moving Average 50\"], marker_color='black',name=\"MA50\"), row=1, col=1)\n",
    "    fig.add_trace(go.Scatter(x=df.index, y=df[\"Moving Average 200\"], marker_color='grey',name=\"MA200\"), row=1, col=1)\n",
    "    fig.add_trace(go.Bar(x=df.index, y=df['Volume'], marker_color='orange', showlegend=False, name='Volume'), row=2, col=1)\n",
    "\n",
    "    fig.update_layout(\n",
    "        font_family='Verdana',\n",
    "        title= ticker + ' ' + 'Historical Stock Chart',\n",
    "        title_font_color='darkblue',\n",
    "        title_font_family = 'Times New Roman',\n",
    "        xaxis_tickfont_size=12,\n",
    "        yaxis=dict(title='Price',\n",
    "                    titlefont_size=14,\n",
    "                    tickfont_size=12\n",
    "        ),\n",
    "\n",
    "    )\n",
    "    fig.update(layout_xaxis_rangeslider_visible=True)\n",
    "    fig.show(renderer=\"colab\")\n",
    "\n",
    "create_stock_chart('AAPL', '2018-01-01', '2022-11-25')"
   ]
  },
  {
   "cell_type": "code",
   "execution_count": 26,
   "metadata": {
    "colab": {
     "base_uri": "https://localhost:8080/",
     "height": 143
    },
    "id": "cf9G9qsW0azx",
    "outputId": "166b32f1-334e-459c-fbda-996776486a8c"
   },
   "outputs": [
    {
     "ename": "AttributeError",
     "evalue": "module 'yahoo_fin.stock_info' has no attribute 'Ticker'",
     "output_type": "error",
     "traceback": [
      "\u001b[0;31m---------------------------------------------------------------------------\u001b[0m",
      "\u001b[0;31mAttributeError\u001b[0m                            Traceback (most recent call last)",
      "Input \u001b[0;32mIn [26]\u001b[0m, in \u001b[0;36m<cell line: 16>\u001b[0;34m()\u001b[0m\n\u001b[1;32m     12\u001b[0m     key_statsdf\u001b[38;5;241m.\u001b[39mcolumns \u001b[38;5;241m=\u001b[39m [\u001b[38;5;124m'\u001b[39m\u001b[38;5;124mSymbol\u001b[39m\u001b[38;5;124m'\u001b[39m,\u001b[38;5;124m'\u001b[39m\u001b[38;5;124mCurrent Price\u001b[39m\u001b[38;5;124m'\u001b[39m, \u001b[38;5;124m'\u001b[39m\u001b[38;5;124mMarket Cap\u001b[39m\u001b[38;5;124m'\u001b[39m,\u001b[38;5;124m'\u001b[39m\u001b[38;5;124mEnterprise Value\u001b[39m\u001b[38;5;124m'\u001b[39m,\u001b[38;5;124m'\u001b[39m\u001b[38;5;124mTrailing EPS\u001b[39m\u001b[38;5;124m'\u001b[39m, \u001b[38;5;124m'\u001b[39m\u001b[38;5;124mForward EPS\u001b[39m\u001b[38;5;124m'\u001b[39m, \u001b[38;5;124m'\u001b[39m\u001b[38;5;124mCurrent Ratio\u001b[39m\u001b[38;5;124m'\u001b[39m, \u001b[38;5;124m'\u001b[39m\u001b[38;5;124mQuick Ratio\u001b[39m\u001b[38;5;124m'\u001b[39m]\n\u001b[1;32m     13\u001b[0m   \u001b[38;5;28;01mreturn\u001b[39;00m key_statsdf\n\u001b[0;32m---> 16\u001b[0m \u001b[43mcomparision_key_statistics\u001b[49m\u001b[43m(\u001b[49m\u001b[43mlist_of_tickers\u001b[49m\u001b[43m)\u001b[49m\n",
      "Input \u001b[0;32mIn [26]\u001b[0m, in \u001b[0;36mcomparision_key_statistics\u001b[0;34m(list_of_tickers)\u001b[0m\n\u001b[1;32m      4\u001b[0m stock_df \u001b[38;5;241m=\u001b[39m pd\u001b[38;5;241m.\u001b[39mDataFrame()\n\u001b[1;32m      6\u001b[0m \u001b[38;5;28;01mfor\u001b[39;00m ticker \u001b[38;5;129;01min\u001b[39;00m list_of_tickers:\n\u001b[0;32m----> 7\u001b[0m   stock_info \u001b[38;5;241m=\u001b[39m \u001b[43myf\u001b[49m\u001b[38;5;241;43m.\u001b[39;49m\u001b[43mTicker\u001b[49m(ticker)\u001b[38;5;241m.\u001b[39minfo\n\u001b[1;32m      8\u001b[0m   df \u001b[38;5;241m=\u001b[39m pd\u001b[38;5;241m.\u001b[39mDataFrame([stock_info])\n\u001b[1;32m      9\u001b[0m   stock_df \u001b[38;5;241m=\u001b[39m stock_df\u001b[38;5;241m.\u001b[39mappend(df)\n",
      "\u001b[0;31mAttributeError\u001b[0m: module 'yahoo_fin.stock_info' has no attribute 'Ticker'"
     ]
    }
   ],
   "source": [
    "list_of_tickers = ['AAPL', 'TWTR', 'TSLA']\n",
    "\n",
    "def comparision_key_statistics(list_of_tickers):\n",
    "  stock_df = pd.DataFrame()\n",
    "\n",
    "  for ticker in list_of_tickers:\n",
    "    stock_info = yf.Ticker(ticker).info\n",
    "    df = pd.DataFrame([stock_info])\n",
    "    stock_df = stock_df.append(df)\n",
    "\n",
    "    key_statsdf = stock_df.iloc[0:3][['symbol','currentPrice','marketCap','enterpriseValue','trailingEps','forwardEps','currentRatio','quickRatio']]\n",
    "    key_statsdf.columns = ['Symbol','Current Price', 'Market Cap','Enterprise Value','Trailing EPS', 'Forward EPS', 'Current Ratio', 'Quick Ratio']\n",
    "  return key_statsdf\n",
    "    \n",
    "\n",
    "comparision_key_statistics(list_of_tickers)"
   ]
  },
  {
   "cell_type": "markdown",
   "metadata": {
    "id": "2F7HFh5K4Fj0"
   },
   "source": []
  },
  {
   "cell_type": "markdown",
   "metadata": {
    "id": "dOd75CBt8NBl"
   },
   "source": [
    "---\n",
    "## Part B2 - Automated Investment Platform\n",
    "\n",
    "Develop a Python program that takes **four** tickers and analyzes them. The automated investment platform should pick **one** stock to buy.\n",
    "\n",
    "* Design an investment strategy and briefly explain your strategy.\n",
    "* The program should print out a report comparing the stocks.\n",
    "* The program should pick the stock based on a logical and well-justified strategy. So you cannot randomly select a stock.\n",
    "\n",
    "You can use any python library for this part. First, develop a strategy for investment; then convert your strategy to a program. You should clearly explain your investment strategy and the required steps for implementation."
   ]
  },
  {
   "cell_type": "markdown",
   "metadata": {
    "id": "ojh79ON38NBm"
   },
   "source": [
    "# Type you strategy here\n",
    "\n",
    "\n",
    "\n"
   ]
  },
  {
   "cell_type": "code",
   "execution_count": null,
   "metadata": {
    "id": "NHHXgf7p8NBm"
   },
   "outputs": [],
   "source": [
    "# your strategy goes here\n",
    "\n",
    "# Use Quandl to get return data\n",
    "# Take risk tolerance as input, low or high\n",
    "# Find variance (beta) to determine the stocks level of risk\n",
    "# Find mean return over the holding period for each stock\n",
    "# Optimal pick will be the stock with the highest return that falls within the investors chosen risk tolerance level\n",
    "\n",
    "\n"
   ]
  },
  {
   "cell_type": "code",
   "execution_count": 27,
   "metadata": {
    "id": "i8okMFio8NBn"
   },
   "outputs": [],
   "source": [
    "from numpy.lib.function_base import corrcoef\n",
    "# Your program goes here\n",
    "\n",
    "def get_investment(t1, t2, t3, t4, risk):\n",
    "  \n",
    "  tickers = [t1,t2,t3,t4]\n",
    "  return_data = {}\n",
    "  betas = {}\n",
    "  high = {}\n",
    "  low = {}\n",
    "  stock = {}\n",
    "\n",
    "  for e in range(len(tickers)):\n",
    "    # This calculates the Beta\n",
    "    symbol = [tickers[e], 'SPY']\n",
    "    df = yf.download(symbol, '2018-01-01', '2022-11-1')['Adj Close']\n",
    "\n",
    "    log_returns = np.log(df/df.shift())\n",
    "\n",
    "    cov = log_returns.cov()\n",
    "    var = log_returns['SPY'].var()\n",
    "\n",
    "    beta = cov.loc[tickers[e], 'SPY']/var\n",
    "\n",
    "    betas[tickers[e]] = beta\n",
    "  #print('\\n ', betas)\n",
    "#return betas\n",
    "\n",
    "  \n",
    "    \n",
    "      for x in range(len(tickers)):\n",
    "    #This gathers the return data and prints out a simple comparison report\n",
    "    df3 = yf.download(tickers[x],'2018-01-05', '2018-12-28', progress=False)\n",
    "    \n",
    "    s_date_acp = df3.iloc[0]['Adj Close']\n",
    "    e_date_acp = df3.iloc[-1]['Adj Close']  \n",
    "\n",
    "    return_data[tickers[x]] = (e_date_acp - s_date_acp) / s_date_acp\n",
    "\n",
    "  print(' \\nThe stocks being considered and their respective returns are:', return_data)\n",
    "  print('Of these, the stock with the highest return is', str(max(return_data, key = return_data.get)), '\\nThe stock with the lowest return is', str(min(return_data, key = return_data.get)))  \n",
    "  print('  \\n****************************************')\n",
    "  print('The betas of the stocks are:', betas, ' \\nThe most volatile stock is', str(max(betas, key = betas.get)), ' \\nThe least volatile stock is', str(min(betas, key = betas.get)))\n",
    "  \n",
    "  if risk == 'low':\n",
    "    for key, value in betas.items():\n",
    "      if value < 1:\n",
    "        low[key] = return_data[key]\n",
    "    #return low\n",
    "    print(' \\n', 'The stock with the highest return within the ' + str(risk) + ' risk tolerance level is ' + str(max(low, key = low.get)))\n",
    "  \n",
    "  if risk == 'high':\n",
    "    for key, value in betas.items():\n",
    "      if value >= 1:\n",
    "        high[key] = return_data[key]\n",
    "    #return high\n",
    "    print(' \\n****************************************', '\\nThe stock with the highest return within the investors risk tolerance level is ' + str(max(high, key = high.get)))\n",
    "\n"
   ]
  },
  {
   "cell_type": "code",
   "execution_count": 28,
   "metadata": {
    "colab": {
     "base_uri": "https://localhost:8080/"
    },
    "id": "MJpUMBw68YXD",
    "outputId": "72dd79a9-9285-49ec-e334-a9b8d24953f7"
   },
   "outputs": [
    {
     "ename": "AttributeError",
     "evalue": "module 'yahoo_fin.stock_info' has no attribute 'download'",
     "output_type": "error",
     "traceback": [
      "\u001b[0;31m---------------------------------------------------------------------------\u001b[0m",
      "\u001b[0;31mAttributeError\u001b[0m                            Traceback (most recent call last)",
      "Input \u001b[0;32mIn [28]\u001b[0m, in \u001b[0;36m<cell line: 2>\u001b[0;34m()\u001b[0m\n\u001b[1;32m      1\u001b[0m \u001b[38;5;66;03m#Risk tolerance can be 'high' or 'low'\u001b[39;00m\n\u001b[0;32m----> 2\u001b[0m \u001b[43mget_investment\u001b[49m\u001b[43m(\u001b[49m\u001b[38;5;124;43m'\u001b[39;49m\u001b[38;5;124;43mMSFT\u001b[39;49m\u001b[38;5;124;43m'\u001b[39;49m\u001b[43m,\u001b[49m\u001b[38;5;124;43m'\u001b[39;49m\u001b[38;5;124;43mAAPL\u001b[39;49m\u001b[38;5;124;43m'\u001b[39;49m\u001b[43m,\u001b[49m\u001b[38;5;124;43m'\u001b[39;49m\u001b[38;5;124;43mUFCS\u001b[39;49m\u001b[38;5;124;43m'\u001b[39;49m\u001b[43m,\u001b[49m\u001b[38;5;124;43m'\u001b[39;49m\u001b[38;5;124;43mGM\u001b[39;49m\u001b[38;5;124;43m'\u001b[39;49m\u001b[43m,\u001b[49m\u001b[43m \u001b[49m\u001b[38;5;124;43m'\u001b[39;49m\u001b[38;5;124;43mhigh\u001b[39;49m\u001b[38;5;124;43m'\u001b[39;49m\u001b[43m)\u001b[49m\n",
      "Input \u001b[0;32mIn [27]\u001b[0m, in \u001b[0;36mget_investment\u001b[0;34m(t1, t2, t3, t4, risk)\u001b[0m\n\u001b[1;32m     13\u001b[0m \u001b[38;5;28;01mfor\u001b[39;00m e \u001b[38;5;129;01min\u001b[39;00m \u001b[38;5;28mrange\u001b[39m(\u001b[38;5;28mlen\u001b[39m(tickers)):\n\u001b[1;32m     14\u001b[0m   \u001b[38;5;66;03m# This calculates the Beta\u001b[39;00m\n\u001b[1;32m     15\u001b[0m   symbol \u001b[38;5;241m=\u001b[39m [tickers[e], \u001b[38;5;124m'\u001b[39m\u001b[38;5;124mSPY\u001b[39m\u001b[38;5;124m'\u001b[39m]\n\u001b[0;32m---> 16\u001b[0m   df \u001b[38;5;241m=\u001b[39m \u001b[43myf\u001b[49m\u001b[38;5;241;43m.\u001b[39;49m\u001b[43mdownload\u001b[49m(symbol, \u001b[38;5;124m'\u001b[39m\u001b[38;5;124m2018-01-01\u001b[39m\u001b[38;5;124m'\u001b[39m, \u001b[38;5;124m'\u001b[39m\u001b[38;5;124m2022-11-1\u001b[39m\u001b[38;5;124m'\u001b[39m)[\u001b[38;5;124m'\u001b[39m\u001b[38;5;124mAdj Close\u001b[39m\u001b[38;5;124m'\u001b[39m]\n\u001b[1;32m     18\u001b[0m   log_returns \u001b[38;5;241m=\u001b[39m np\u001b[38;5;241m.\u001b[39mlog(df\u001b[38;5;241m/\u001b[39mdf\u001b[38;5;241m.\u001b[39mshift())\n\u001b[1;32m     20\u001b[0m   cov \u001b[38;5;241m=\u001b[39m log_returns\u001b[38;5;241m.\u001b[39mcov()\n",
      "\u001b[0;31mAttributeError\u001b[0m: module 'yahoo_fin.stock_info' has no attribute 'download'"
     ]
    }
   ],
   "source": [
    "#Risk tolerance can be 'high' or 'low'\n",
    "get_investment('MSFT','AAPL','UFCS','GM', 'high')"
   ]
  },
  {
   "cell_type": "code",
   "execution_count": null,
   "metadata": {
    "id": "XChqRcuazqiP"
   },
   "outputs": [],
   "source": []
  },
  {
   "cell_type": "code",
   "execution_count": null,
   "metadata": {
    "id": "7ViPT6lC0wIn"
   },
   "outputs": [],
   "source": []
  }
 ],
 "metadata": {
  "colab": {
   "provenance": []
  },
  "kernelspec": {
   "display_name": "Python 3 (ipykernel)",
   "language": "python",
   "name": "python3"
  },
  "language_info": {
   "codemirror_mode": {
    "name": "ipython",
    "version": 3
   },
   "file_extension": ".py",
   "mimetype": "text/x-python",
   "name": "python",
   "nbconvert_exporter": "python",
   "pygments_lexer": "ipython3",
   "version": "3.9.12"
  }
 },
 "nbformat": 4,
 "nbformat_minor": 1
}
