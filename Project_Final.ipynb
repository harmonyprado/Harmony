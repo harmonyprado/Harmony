{
 "cells": [
  {
   "cell_type": "code",
   "execution_count": null,
   "id": "0151a820",
   "metadata": {},
   "outputs": [],
   "source": [
    "# Team members:\n",
    "\n",
    "full_name_1 = \"Faiz Adem\"\n",
    "full_name_2 = \"Anthony Lopardo\"\n",
    "full_name_3 = \"Harmony Prado\"\n",
    "full_name_4 = \"\""
   ]
  },
  {
   "cell_type": "code",
   "execution_count": null,
   "id": "40938918",
   "metadata": {},
   "outputs": [],
   "source": [
    "!pip install yfinance\n",
    "!pip install quandl\n",
    "!pip install plotly\n",
    "!pip install pandas-datareader\n",
    "!pip install yahoo_fin\n",
    "\n",
    "%matplotlib inline\n",
    "\n",
    "import yfinance as yf  \n",
    "import pandas as pd\n",
    "from pandas_datareader import data as pdr\n",
    "import matplotlib.pyplot as plt\n",
    "plt.style.use('ggplot')\n",
    "import seaborn as sns \n",
    "import json\n",
    "import numpy as np\n",
    "from sklearn.linear_model import LinearRegression\n",
    "import quandl\n",
    "import requests\n",
    "from bs4 import BeautifulSoup\n",
    "import datetime as dt\n",
    "import plotly.offline as pyo\n",
    "import plotly.graph_objects as go\n",
    "from plotly.subplots import make_subplots\n",
    "\n",
    "pyo.init_notebook_mode(connected=True)\n",
    "pd.options.plotting.backend = 'plotly'\n",
    "\n"
   ]
  },
  {
   "cell_type": "code",
   "execution_count": null,
   "id": "88ff3b91",
   "metadata": {},
   "outputs": [],
   "source": []
  }
 ],
 "metadata": {
  "kernelspec": {
   "display_name": "Python 3 (ipykernel)",
   "language": "python",
   "name": "python3"
  },
  "language_info": {
   "codemirror_mode": {
    "name": "ipython",
    "version": 3
   },
   "file_extension": ".py",
   "mimetype": "text/x-python",
   "name": "python",
   "nbconvert_exporter": "python",
   "pygments_lexer": "ipython3",
   "version": "3.9.12"
  }
 },
 "nbformat": 4,
 "nbformat_minor": 5
}
